{
 "cells": [
  {
   "cell_type": "markdown",
   "metadata": {},
   "source": [
    "# Analysis of Wikipedia Network\n",
    "Elliot Williams<br>March 24, 2018<br>Web Scraping w. Prof. Oleinikov\n",
    "\n",
    "## Background\n",
    "\n",
    "Before this point, I ran `extractHTML.sh` on the entire set of Wikipedia articles, accessible from the [Internet Archive](https://archive.org/search.php?query=subject%3A%22enwiki%22%20AND%20subject%3A%22data%20dumps%22%20AND%20collection%3A%22wikimediadownloads%22&and[]=subject%3A%22Wikipedia%22), resulting in 54 files representing the adjacency list of the directed Wikipedia network (in which articles are nodes, hyperlinks edges).\n",
    "\n",
    "## Analyzing the Results\n",
    "\n",
    "Now, I want to plot the out degree distribution of the Wikipedia network, as well as see some instances of high-degree nodes.\n",
    "\n",
    "Let's start by figuring out the number of nodes and edges in all the files...\n",
    "\n",
    "(**Sidenote**: I'm running this on the CS kurtz server -- it takes forever to run on my laptop -- and I'm using [ray](http://ray.readthedocs.io/en/latest/) to run some of my code -- ie `getOutdegs` -- in parallel without having to implement it in parallel myself)"
   ]
  },
  {
   "cell_type": "code",
   "execution_count": 118,
   "metadata": {},
   "outputs": [
    {
     "name": "stdout",
     "output_type": "stream",
     "text": [
      "The rpy2.ipython extension is already loaded. To reload it, use:\n",
      "  %reload_ext rpy2.ipython\n"
     ]
    }
   ],
   "source": [
    "%load_ext rpy2.ipython\n",
    "ray.init()\n",
    "import re\n",
    "import glob\n",
    "import ray\n",
    "\n",
    "# Gets list of all adjacency list files\n",
    "file_list = glob.glob(\"./link_files/*.dat\")\n",
    "\n",
    "'''\n",
    "The following function reads in a given adjacency list file and returns\n",
    "'''\n",
    "@ray.remote\n",
    "def getOutdegs(filename):\n",
    "    f = open(filename)\n",
    "\n",
    "    # Parses out HTTP links --> just in case any got through the initial search\n",
    "    # Also, some of the links contain '#' pointers to specific parts of an article \n",
    "    # -- let's remove these (both done in one loop for speed purposes)\n",
    "    lines = [re.sub(\"#.*\", \"\", line.strip()) for line in f if \n",
    "             not re.search(\"https?:\\/\\/\", line)]\n",
    "\n",
    "    t_indices = [i for i in range(len(lines)) if re.search(\">>>>\", lines[i])]\n",
    "\n",
    "    print(\"There are {} nodes represented in this file\".format(len(t_indices)))\n",
    "    print(\"There are {} edges in this file\".format(len(lines) - len(t_indices)))\n",
    "    \n",
    "    titles   = [re.sub(\">>>>\", \"\", lines[i]) for i in t_indices]\n",
    "    out_degs = [t_indices[i+1] - t_indices[i] - 1 \n",
    "                for i in range(len(t_indices) - 1)] + [len(lines[t_indices[-1]:])]\n",
    "    t_outdegs = list(zip(titles, out_degs))\n",
    "    t_outdegs.sort(key=lambda x : x[1], reverse=True)\n",
    "    return(t_outdegs)\n",
    "\n",
    "\n",
    "file_results = ray.get([getOutdegs.remote(filename) for filename in file_list])"
   ]
  },
  {
   "cell_type": "markdown",
   "metadata": {},
   "source": [
    "Now that we have our results for each file, let's combine all of the results together into one dataset we can manage"
   ]
  },
  {
   "cell_type": "code",
   "execution_count": 116,
   "metadata": {},
   "outputs": [],
   "source": [
    "from functools import reduce\n",
    "t_outdegs = reduce(lambda x,y : x + y, file_results)\n",
    "t_outdegs.sort(key=lambda x: x[1], reverse=True)"
   ]
  },
  {
   "cell_type": "code",
   "execution_count": 21,
   "metadata": {},
   "outputs": [],
   "source": [
    "import pandas as pd\n",
    "titles, outdegs = zip(*t_outdegs)\n",
    "df = pd.DataFrame({\"title\": titles, \"outdeg\":outdegs})"
   ]
  },
  {
   "cell_type": "code",
   "execution_count": 22,
   "metadata": {},
   "outputs": [
    {
     "data": {
      "text/plain": [
       "[('Rosters of the top basketball teams in European club competitions', 9068),\n",
       " ('List of film director and actor collaborations', 8861),\n",
       " ('Timeline of heavy metal and hard rock music', 8333),\n",
       " ('List of stage names', 6646),\n",
       " ('List of years in jazz', 6490),\n",
       " ('List of dialling codes in Germany', 6381),\n",
       " ('List of male mixed martial artists', 6300),\n",
       " ('List of performances on Top of the Pops', 6249),\n",
       " ('List of OMIM disorder codes', 6210),\n",
       " ('List of populated places in Bosnia and Herzegovina', 6007),\n",
       " ('List of cities, towns and villages in Kerman Province', 5853),\n",
       " ('List of protected areas of China', 5842),\n",
       " ('List of people from Texas', 5827),\n",
       " ('Index of Telangana-related articles', 5778),\n",
       " ('Index of Andhra Pradesh-related articles', 5698),\n",
       " ('List of cities, towns and villages in Sistan and Baluchestan Province',\n",
       "  5606),\n",
       " ('Alphabetical list of comunes of Italy', 5492),\n",
       " ('List of foreign football players in Serbia', 5395),\n",
       " ('Index of India-related articles', 5315),\n",
       " ('List of foreign Bundesliga players', 5187),\n",
       " ('List of film director and composer collaborations', 5127),\n",
       " ('Index of Italy-related articles', 5087),\n",
       " ('List of foreign Premier League players', 5038),\n",
       " ('List of foreign football players in Cypriot First Division', 4932),\n",
       " ('List of historical German and Czech names for places in the Czech Republic',\n",
       "  4834),\n",
       " ('Timeline of London', 4826),\n",
       " ('List of Cornell University alumni', 4823),\n",
       " ('List of aircraft engines', 4783),\n",
       " ('List of populated places in Serbia (alphabetic)', 4691),\n",
       " ('List of places named after people', 4645),\n",
       " ('List of birds by common name', 4621),\n",
       " ('List of postal codes in Portugal', 4590),\n",
       " ('List of molluscan genera represented in the fossil record', 4580),\n",
       " ('List of American television programs by debut date', 4553),\n",
       " ('List of banks (alphabetically)', 4541),\n",
       " ('List of special routes of the United States Numbered Highway System', 4467),\n",
       " ('List of Catholic dioceses (structured view)', 4448),\n",
       " ('List of train songs', 4419),\n",
       " ('List of Russian people', 4359),\n",
       " ('Lists of television channels (alphabetically)', 4313),\n",
       " ('List of foreign footballers in top leagues of former Yugoslavia', 4276),\n",
       " ('List of foreign football players in the Netherlands', 4235),\n",
       " ('List of cities, towns and villages in Fars Province', 4227),\n",
       " ('List of trilobite genera', 4204),\n",
       " ('List of University of Pennsylvania people', 4175),\n",
       " ('List of cities, towns and villages in Khuzestan Province', 4172),\n",
       " ('List of film director and cinematographer collaborations', 4146),\n",
       " ('List of moths of Taiwan', 4126),\n",
       " ('List of foreign Russian Premier League players', 4124)]"
      ]
     },
     "execution_count": 22,
     "metadata": {},
     "output_type": "execute_result"
    }
   ],
   "source": [
    "# List of highest outdegree articles\n",
    "t_outdegs[1:50]"
   ]
  },
  {
   "cell_type": "markdown",
   "metadata": {},
   "source": [
    "In the first results above, we see a lot of 'List of [X University]' people entries. We could use this as a proxy measure of universities with interesting / noteworthy alumni. Let's try to do this below"
   ]
  },
  {
   "cell_type": "code",
   "execution_count": 50,
   "metadata": {},
   "outputs": [],
   "source": [
    "uni_t_outdegs = list(filter(lambda x : re.search(\"List.*(University|College).*(people|alumni)\", x[0]), t_outdegs))"
   ]
  },
  {
   "cell_type": "code",
   "execution_count": 61,
   "metadata": {},
   "outputs": [
    {
     "data": {
      "text/plain": [
       "[('List of University of Pennsylvania people', 4175),\n",
       " ('List of Columbia College people', 3575),\n",
       " ('List of University of Toronto people', 2924),\n",
       " ('List of Wesleyan University people', 2486),\n",
       " ('List of University of Cambridge people', 2351),\n",
       " ('List of Duke University people', 2259),\n",
       " ('List of Columbia University alumni', 2196),\n",
       " ('List of Columbia University alumni and attendees', 2121),\n",
       " ('List of Yale University people', 2045),\n",
       " ('List of Brown University people', 2040),\n",
       " ('List of Stanford University people', 1880),\n",
       " ('List of University of Wisconsin–Madison people', 1876),\n",
       " ('List of University of Southern California people', 1842),\n",
       " ('List of University of California, Los Angeles people', 1737),\n",
       " ('List of University of Florida alumni', 1603),\n",
       " ('List of University of Minnesota people', 1588),\n",
       " ('List of Williams College people', 1570),\n",
       " ('List of Northwestern University alumni', 1533),\n",
       " (\"List of King's College London alumni\", 1489)]"
      ]
     },
     "execution_count": 61,
     "metadata": {},
     "output_type": "execute_result"
    }
   ],
   "source": [
    "uni_t_outdegs[1:20]"
   ]
  },
  {
   "cell_type": "markdown",
   "metadata": {},
   "source": [
    "Now, let's try to get rid of the \"in\", \"with\" and \"and\" results, which will only serve to double count people."
   ]
  },
  {
   "cell_type": "code",
   "execution_count": 64,
   "metadata": {},
   "outputs": [],
   "source": [
    "uni_t_outdegs = list(filter(lambda x : not re.search(\"( in )|( with )|( and )\", x[0]), uni_t_outdegs))\n",
    "u_titles, u_outdegs = zip(*uni_t_outdegs)\n",
    "uni_df = pd.DataFrame({\"title\": u_titles, \"outdeg\":u_outdegs})"
   ]
  },
  {
   "cell_type": "code",
   "execution_count": 90,
   "metadata": {},
   "outputs": [
    {
     "data": {
      "image/png": "[encoded data removed]"
     },
     "metadata": {},
     "output_type": "display_data"
    }
   ],
   "source": [
    "%%R -i uni_df\n",
    "library(ggplot2)\n",
    "\n",
    "# I'm making the arbitrary decision to graph all pages with an outdegree > 1000\n",
    "uni_df <- filter(uni_df, outdeg > 1000) %>%\n",
    "    mutate(title=gsub(\"List of \", \"\", title),\n",
    "           title=gsub(\" (people|alumni)\", \"\", title))\n",
    "orig_title <- factor(uni_df$title)\n",
    "    \n",
    "uni_df$title <- factor(uni_df$title, levels=uni_df$title[order(uni_df$outdeg)])\n",
    "ggplot(uni_df, aes(x=title, y=outdeg, fill=orig_title)) + geom_bar(stat=\"identity\") +\n",
    "coord_flip() + theme(legend.position=\"\")"
   ]
  },
  {
   "cell_type": "code",
   "execution_count": 119,
   "metadata": {},
   "outputs": [
    {
     "data": {
      "text/html": [
       "<div>\n",
       "<style scoped>\n",
       "    .dataframe tbody tr th:only-of-type {\n",
       "        vertical-align: middle;\n",
       "    }\n",
       "\n",
       "    .dataframe tbody tr th {\n",
       "        vertical-align: top;\n",
       "    }\n",
       "\n",
       "    .dataframe thead th {\n",
       "        text-align: right;\n",
       "    }\n",
       "</style>\n",
       "<table border=\"1\" class=\"dataframe\">\n",
       "  <thead>\n",
       "    <tr style=\"text-align: right;\">\n",
       "      <th></th>\n",
       "      <th>outdeg</th>\n",
       "      <th>title</th>\n",
       "    </tr>\n",
       "  </thead>\n",
       "  <tbody>\n",
       "    <tr>\n",
       "      <th>0</th>\n",
       "      <td>1279</td>\n",
       "      <td>List of Amherst College people</td>\n",
       "    </tr>\n",
       "    <tr>\n",
       "      <th>1</th>\n",
       "      <td>2486</td>\n",
       "      <td>List of Wesleyan University people</td>\n",
       "    </tr>\n",
       "    <tr>\n",
       "      <th>2</th>\n",
       "      <td>625</td>\n",
       "      <td>List of Bowdoin College people</td>\n",
       "    </tr>\n",
       "    <tr>\n",
       "      <th>3</th>\n",
       "      <td>2</td>\n",
       "      <td>List of Colby College alumni</td>\n",
       "    </tr>\n",
       "    <tr>\n",
       "      <th>4</th>\n",
       "      <td>152</td>\n",
       "      <td>List of Connecticut College alumni</td>\n",
       "    </tr>\n",
       "    <tr>\n",
       "      <th>5</th>\n",
       "      <td>408</td>\n",
       "      <td>List of Hamilton College people</td>\n",
       "    </tr>\n",
       "    <tr>\n",
       "      <th>6</th>\n",
       "      <td>716</td>\n",
       "      <td>List of Middlebury College alumni</td>\n",
       "    </tr>\n",
       "    <tr>\n",
       "      <th>7</th>\n",
       "      <td>583</td>\n",
       "      <td>List of Trinity College (Connecticut) people</td>\n",
       "    </tr>\n",
       "    <tr>\n",
       "      <th>8</th>\n",
       "      <td>900</td>\n",
       "      <td>List of Tufts University people</td>\n",
       "    </tr>\n",
       "    <tr>\n",
       "      <th>9</th>\n",
       "      <td>1570</td>\n",
       "      <td>List of Williams College people</td>\n",
       "    </tr>\n",
       "  </tbody>\n",
       "</table>\n",
       "</div>"
      ],
      "text/plain": [
       "   outdeg                                         title\n",
       "0    1279                List of Amherst College people\n",
       "1    2486            List of Wesleyan University people\n",
       "2     625                List of Bowdoin College people\n",
       "3       2                  List of Colby College alumni\n",
       "4     152            List of Connecticut College alumni\n",
       "5     408               List of Hamilton College people\n",
       "6     716             List of Middlebury College alumni\n",
       "7     583  List of Trinity College (Connecticut) people\n",
       "8     900               List of Tufts University people\n",
       "9    1570               List of Williams College people"
      ]
     },
     "execution_count": 119,
     "metadata": {},
     "output_type": "execute_result"
    }
   ],
   "source": [
    "NESCAC_schools = [\"Amherst College\", \"Wesleyan University\", \"Bowdoin College\",\n",
    "                  \"Colby College\"  , \"Connecticut College\", \"Hamilton College\",\n",
    "                  \"Middlebury College\", \"Trinity College \\(Connecticut\\)\", \"Tufts University\",\n",
    "                  \"Williams College\"]\n",
    "nescac_t_outdegs = []\n",
    "for school in NESCAC_schools:\n",
    "    nescac_t_outdegs += list(filter(lambda x : re.search(\"List of \" +school, x[0]), uni_t_outdegs))\n",
    "n_titles, n_outdegs = zip(*nescac_t_outdegs)\n",
    "nes_df = pd.DataFrame({\"title\": n_titles, \"outdeg\":n_outdegs})\n",
    "nes_df"
   ]
  },
  {
   "cell_type": "code",
   "execution_count": 93,
   "metadata": {},
   "outputs": [
    {
     "data": {
      "image/png": "[encoded data removed]"
     },
     "metadata": {},
     "output_type": "display_data"
    }
   ],
   "source": [
    "%%R -i nes_df\n",
    "\n",
    "library(ggplot2)\n",
    "\n",
    "# I'm making the arbitrary decision to graph all pages with an outdegree > 1000\n",
    "nes_df <- nes_df %>% mutate(title=gsub(\"List of \", \"\", title),\n",
    "           title=gsub(\" (people|alumni)\", \"\", title))\n",
    "orig_title <- factor(nes_df$title)\n",
    "    \n",
    "nes_df$title <- factor(nes_df$title, levels=nes_df$title[order(nes_df$outdeg)])\n",
    "ggplot(nes_df, aes(x=title, y=outdeg, fill=orig_title)) + geom_bar(stat=\"identity\") +\n",
    "coord_flip() + theme(legend.position=\"\")"
   ]
  },
  {
   "cell_type": "markdown",
   "metadata": {},
   "source": [
    "Two things strike me about this figure. First is that of all NESCAC schools with data, Wesleyan appears to have the most Wikipedia links on its alumni page. My three interpretations of this are:\n",
    "\n",
    "1. That we are a school with cool, noteworthy alumni (my personal favorite interpretation)\n",
    "2. That we punch above our weight when it comes to editing our Wikipedia page (ie more Wikipedians went to / care about Wesleyan)\n",
    "3. Michael Roth spends his nights editing our Wikipedia page\n",
    "\n",
    "The second thing that strikes me is that Colby College is missing outlinks data, despite Colby having an alumni list. \n",
    "\n",
    "**TODO**: Check that there aren't errors in the scraping from the database when it comes to pages. Maybe only the abstracts are being scraped... or maybe the pages weren't picked up in that data dump (might be worth trying to scrape from multiple data dumps)"
   ]
  },
  {
   "cell_type": "code",
   "execution_count": 120,
   "metadata": {},
   "outputs": [],
   "source": [
    "Ivy_Schools = [\"Brown University\", \"Columbia University\", \"Cornell University\",\n",
    "               \"Dartmouth College\", \"Harvard University\", \"University of Pennsylvania\",\n",
    "               \"Princeton University\", \"Yale University\"]\n",
    "ivy_t_outdegs = []\n",
    "for school in Ivy_Schools:\n",
    "    ivy_t_outdegs += list(filter(lambda x : re.search(\"(?<=List of) \" + school + \" (people|alumni)(?=)\", x[0]), uni_t_outdegs))\n",
    "ivy_t_outdegs = list(filter(lambda x : not re.search(\"\\(.*\\)\", x[0]), ivy_t_outdegs))\n",
    "ivy_t_outdegs = list(filter(lambda x : not re.search(\"Columbia University people\", x[0]),\n",
    "                            ivy_t_outdegs))\n",
    "i_titles, i_outdegs = zip(*ivy_t_outdegs)\n",
    "ivy_df = pd.DataFrame({\"title\": i_titles, \"outdeg\":i_outdegs})"
   ]
  },
  {
   "cell_type": "code",
   "execution_count": 112,
   "metadata": {},
   "outputs": [
    {
     "data": {
      "text/plain": [
       "  outdeg                                     title\n",
       "0   2040           List of Brown University people\n",
       "1   2196        List of Columbia University alumni\n",
       "2   4823         List of Cornell University alumni\n",
       "3     24          List of Dartmouth College alumni\n",
       "4     17         List of Harvard University people\n",
       "5   4175 List of University of Pennsylvania people\n",
       "6    845       List of Princeton University people\n",
       "7   2045            List of Yale University people\n"
      ]
     },
     "metadata": {},
     "output_type": "display_data"
    },
    {
     "data": {
      "image/png": "[encoded data removed]"
     },
     "metadata": {},
     "output_type": "display_data"
    }
   ],
   "source": [
    "%%R -i ivy_df\n",
    "\n",
    "print(ivy_df)\n",
    "\n",
    "library(ggplot2)\n",
    "\n",
    "\n",
    "\n",
    "# I'm making the arbitrary decision to graph all pages with an outdegree > 1000\n",
    "ivy_df <- ivy_df %>% mutate(title=gsub(\"List of \", \"\", title),\n",
    "           title=gsub(\" (people|alumni)\", \"\", title))\n",
    "orig_title <- factor(ivy_df$title)\n",
    "    \n",
    "ivy_df$title <- factor(ivy_df$title, levels=ivy_df$title[order(ivy_df$outdeg)])\n",
    "ggplot(ivy_df, aes(x=title, y=outdeg, fill=orig_title)) + geom_bar(stat=\"identity\") +\n",
    "coord_flip() + theme(legend.position=\"\")"
   ]
  },
  {
   "cell_type": "markdown",
   "metadata": {},
   "source": [
    "Again, we see that there are very few links for Harvard and Dartmouth, which leads me to conclude that maybe the parser is only dealing with article abstracts...\n",
    "\n",
    "**TODO:** Investigate this further"
   ]
  },
  {
   "cell_type": "markdown",
   "metadata": {},
   "source": [
    "We saw before that the nodes with the highest outdegree tend to be lists, indexes and timelines. Let's see what the highest outdegree articles are if we filter these out."
   ]
  },
  {
   "cell_type": "code",
   "execution_count": 29,
   "metadata": {},
   "outputs": [
    {
     "data": {
      "text/plain": [
       "[('2016 in the United States', 3927),\n",
       " ('2018 in sports', 3747),\n",
       " ('Italian Athletics Championships', 3615),\n",
       " ('Culture of the United Kingdom', 3412),\n",
       " ('Flora of Lebanon', 3099),\n",
       " ('2016 in aviation', 3066),\n",
       " ('1979', 2968),\n",
       " ('2017 in the United States', 2945),\n",
       " ('Agrilus', 2895),\n",
       " ('1989', 2855),\n",
       " ('1945', 2767),\n",
       " ('2015 in aviation', 2737),\n",
       " ('The Neptunes production discography', 2713),\n",
       " ('1990', 2627),\n",
       " ('1991', 2533),\n",
       " ('Phyllosticta', 2530),\n",
       " ('1992', 2425),\n",
       " ('1970', 2415),\n",
       " ('1972', 2385),\n",
       " ('Plants of the Reserva de la Biosfera Manantlan', 2383),\n",
       " ('1986', 2358),\n",
       " ('1942', 2345),\n",
       " ('Scientific phenomena named after people', 2343),\n",
       " ('1988', 2341),\n",
       " ('1944', 2341),\n",
       " ('1973', 2339),\n",
       " ('1980', 2334),\n",
       " ('Roads in Malta', 2297),\n",
       " ('1993', 2296),\n",
       " ('1967', 2296),\n",
       " ('1966', 2290),\n",
       " ('Chronological summary of the 2016 Summer Olympics', 2289),\n",
       " ('1983', 2288),\n",
       " ('1977', 2275),\n",
       " ('1943', 2244),\n",
       " ('History of French animation', 2243),\n",
       " ('South East England', 2239),\n",
       " ('1969', 2236),\n",
       " (\"All Tomorrow's Parties Festival lineups\", 2228),\n",
       " ('1971', 2222),\n",
       " ('1981', 2214),\n",
       " ('1964', 2208),\n",
       " ('2011 in the United States', 2204),\n",
       " ('1996', 2201),\n",
       " ('1914', 2189),\n",
       " ('1976', 2182),\n",
       " ('European Cup and UEFA Champions League records and statistics', 2179),\n",
       " ('1988 in film', 2173),\n",
       " ('1978', 2170)]"
      ]
     },
     "execution_count": 29,
     "metadata": {},
     "output_type": "execute_result"
    }
   ],
   "source": [
    "f_t_outdegs = list(filter(lambda x : not re.search(\"((L|l)ist)|(Index)|(Timeline)\", x[0]), t_outdegs))\n",
    "f_t_outdegs[1:50]"
   ]
  },
  {
   "cell_type": "code",
   "execution_count": 128,
   "metadata": {},
   "outputs": [],
   "source": [
    "date_t_outdegs = list(filter(lambda x : re.search(\"[0-9]{4}\", x[0]), f_t_outdegs))\n",
    "date_t_outdegs = list(filter(lambda x : len(x[0]) == 4, date_t_outdegs))\n"
   ]
  },
  {
   "cell_type": "code",
   "execution_count": 132,
   "metadata": {},
   "outputs": [
    {
     "data": {
      "text/plain": [
       "[('9700', 3),\n",
       " ('9630', 4),\n",
       " ('9600', 3),\n",
       " ('9500', 4),\n",
       " ('9300', 2),\n",
       " ('9200', 4),\n",
       " ('9001', 3),\n",
       " ('9000', 15),\n",
       " ('8974', 9),\n",
       " ('8969', 5),\n",
       " ('8800', 3),\n",
       " ('8701', 146),\n",
       " ('8664', 18),\n",
       " ('8600', 3),\n",
       " ('8500', 4),\n",
       " ('8444', 3),\n",
       " ('8200', 3),\n",
       " ('8000', 5),\n",
       " ('7800', 3)]"
      ]
     },
     "execution_count": 132,
     "metadata": {},
     "output_type": "execute_result"
    }
   ],
   "source": [
    "len(date_t_outdegs)\n",
    "date_t_outdegs.sort(reverse=True)\n",
    "date_t_outdegs[1:20]"
   ]
  },
  {
   "cell_type": "code",
   "execution_count": 133,
   "metadata": {},
   "outputs": [
    {
     "data": {
      "text/plain": [
       "318"
      ]
     },
     "execution_count": 133,
     "metadata": {},
     "output_type": "execute_result"
    }
   ],
   "source": [
    "# But I only cared about years... so we filter all above 2018 and below 1700\n",
    "date_t_outdegs = [x for x in date_t_outdegs if int(x[0]) > 1700 and int(x[0])<2019]\n",
    "len(date_t_outdegs) # Nice, now we only have years"
   ]
  },
  {
   "cell_type": "code",
   "execution_count": 135,
   "metadata": {},
   "outputs": [
    {
     "data": {
      "text/html": [
       "<div>\n",
       "<style scoped>\n",
       "    .dataframe tbody tr th:only-of-type {\n",
       "        vertical-align: middle;\n",
       "    }\n",
       "\n",
       "    .dataframe tbody tr th {\n",
       "        vertical-align: top;\n",
       "    }\n",
       "\n",
       "    .dataframe thead th {\n",
       "        text-align: right;\n",
       "    }\n",
       "</style>\n",
       "<table border=\"1\" class=\"dataframe\">\n",
       "  <thead>\n",
       "    <tr style=\"text-align: right;\">\n",
       "      <th></th>\n",
       "      <th>outdeg</th>\n",
       "      <th>year</th>\n",
       "    </tr>\n",
       "  </thead>\n",
       "  <tbody>\n",
       "    <tr>\n",
       "      <th>0</th>\n",
       "      <td>174</td>\n",
       "      <td>2018</td>\n",
       "    </tr>\n",
       "    <tr>\n",
       "      <th>1</th>\n",
       "      <td>1419</td>\n",
       "      <td>2017</td>\n",
       "    </tr>\n",
       "    <tr>\n",
       "      <th>2</th>\n",
       "      <td>1151</td>\n",
       "      <td>2016</td>\n",
       "    </tr>\n",
       "    <tr>\n",
       "      <th>3</th>\n",
       "      <td>1135</td>\n",
       "      <td>2015</td>\n",
       "    </tr>\n",
       "    <tr>\n",
       "      <th>4</th>\n",
       "      <td>851</td>\n",
       "      <td>2014</td>\n",
       "    </tr>\n",
       "    <tr>\n",
       "      <th>5</th>\n",
       "      <td>722</td>\n",
       "      <td>2013</td>\n",
       "    </tr>\n",
       "    <tr>\n",
       "      <th>6</th>\n",
       "      <td>639</td>\n",
       "      <td>2012</td>\n",
       "    </tr>\n",
       "    <tr>\n",
       "      <th>7</th>\n",
       "      <td>642</td>\n",
       "      <td>2011</td>\n",
       "    </tr>\n",
       "    <tr>\n",
       "      <th>8</th>\n",
       "      <td>694</td>\n",
       "      <td>2010</td>\n",
       "    </tr>\n",
       "    <tr>\n",
       "      <th>9</th>\n",
       "      <td>648</td>\n",
       "      <td>2009</td>\n",
       "    </tr>\n",
       "    <tr>\n",
       "      <th>10</th>\n",
       "      <td>752</td>\n",
       "      <td>2008</td>\n",
       "    </tr>\n",
       "    <tr>\n",
       "      <th>11</th>\n",
       "      <td>708</td>\n",
       "      <td>2007</td>\n",
       "    </tr>\n",
       "    <tr>\n",
       "      <th>12</th>\n",
       "      <td>593</td>\n",
       "      <td>2006</td>\n",
       "    </tr>\n",
       "    <tr>\n",
       "      <th>13</th>\n",
       "      <td>510</td>\n",
       "      <td>2005</td>\n",
       "    </tr>\n",
       "    <tr>\n",
       "      <th>14</th>\n",
       "      <td>518</td>\n",
       "      <td>2004</td>\n",
       "    </tr>\n",
       "    <tr>\n",
       "      <th>15</th>\n",
       "      <td>575</td>\n",
       "      <td>2003</td>\n",
       "    </tr>\n",
       "    <tr>\n",
       "      <th>16</th>\n",
       "      <td>482</td>\n",
       "      <td>2002</td>\n",
       "    </tr>\n",
       "    <tr>\n",
       "      <th>17</th>\n",
       "      <td>971</td>\n",
       "      <td>2001</td>\n",
       "    </tr>\n",
       "    <tr>\n",
       "      <th>18</th>\n",
       "      <td>1086</td>\n",
       "      <td>2000</td>\n",
       "    </tr>\n",
       "    <tr>\n",
       "      <th>19</th>\n",
       "      <td>1551</td>\n",
       "      <td>1999</td>\n",
       "    </tr>\n",
       "    <tr>\n",
       "      <th>20</th>\n",
       "      <td>1584</td>\n",
       "      <td>1998</td>\n",
       "    </tr>\n",
       "    <tr>\n",
       "      <th>21</th>\n",
       "      <td>1912</td>\n",
       "      <td>1997</td>\n",
       "    </tr>\n",
       "    <tr>\n",
       "      <th>22</th>\n",
       "      <td>2201</td>\n",
       "      <td>1996</td>\n",
       "    </tr>\n",
       "    <tr>\n",
       "      <th>23</th>\n",
       "      <td>1740</td>\n",
       "      <td>1995</td>\n",
       "    </tr>\n",
       "    <tr>\n",
       "      <th>24</th>\n",
       "      <td>1798</td>\n",
       "      <td>1994</td>\n",
       "    </tr>\n",
       "    <tr>\n",
       "      <th>25</th>\n",
       "      <td>2296</td>\n",
       "      <td>1993</td>\n",
       "    </tr>\n",
       "    <tr>\n",
       "      <th>26</th>\n",
       "      <td>2425</td>\n",
       "      <td>1992</td>\n",
       "    </tr>\n",
       "    <tr>\n",
       "      <th>27</th>\n",
       "      <td>2533</td>\n",
       "      <td>1991</td>\n",
       "    </tr>\n",
       "    <tr>\n",
       "      <th>28</th>\n",
       "      <td>2627</td>\n",
       "      <td>1990</td>\n",
       "    </tr>\n",
       "    <tr>\n",
       "      <th>29</th>\n",
       "      <td>2855</td>\n",
       "      <td>1989</td>\n",
       "    </tr>\n",
       "    <tr>\n",
       "      <th>...</th>\n",
       "      <td>...</td>\n",
       "      <td>...</td>\n",
       "    </tr>\n",
       "    <tr>\n",
       "      <th>288</th>\n",
       "      <td>225</td>\n",
       "      <td>1730</td>\n",
       "    </tr>\n",
       "    <tr>\n",
       "      <th>289</th>\n",
       "      <td>205</td>\n",
       "      <td>1729</td>\n",
       "    </tr>\n",
       "    <tr>\n",
       "      <th>290</th>\n",
       "      <td>210</td>\n",
       "      <td>1728</td>\n",
       "    </tr>\n",
       "    <tr>\n",
       "      <th>291</th>\n",
       "      <td>209</td>\n",
       "      <td>1727</td>\n",
       "    </tr>\n",
       "    <tr>\n",
       "      <th>292</th>\n",
       "      <td>191</td>\n",
       "      <td>1726</td>\n",
       "    </tr>\n",
       "    <tr>\n",
       "      <th>293</th>\n",
       "      <td>250</td>\n",
       "      <td>1725</td>\n",
       "    </tr>\n",
       "    <tr>\n",
       "      <th>294</th>\n",
       "      <td>246</td>\n",
       "      <td>1724</td>\n",
       "    </tr>\n",
       "    <tr>\n",
       "      <th>295</th>\n",
       "      <td>235</td>\n",
       "      <td>1723</td>\n",
       "    </tr>\n",
       "    <tr>\n",
       "      <th>296</th>\n",
       "      <td>439</td>\n",
       "      <td>1722</td>\n",
       "    </tr>\n",
       "    <tr>\n",
       "      <th>297</th>\n",
       "      <td>258</td>\n",
       "      <td>1721</td>\n",
       "    </tr>\n",
       "    <tr>\n",
       "      <th>298</th>\n",
       "      <td>267</td>\n",
       "      <td>1720</td>\n",
       "    </tr>\n",
       "    <tr>\n",
       "      <th>299</th>\n",
       "      <td>276</td>\n",
       "      <td>1719</td>\n",
       "    </tr>\n",
       "    <tr>\n",
       "      <th>300</th>\n",
       "      <td>278</td>\n",
       "      <td>1718</td>\n",
       "    </tr>\n",
       "    <tr>\n",
       "      <th>301</th>\n",
       "      <td>414</td>\n",
       "      <td>1717</td>\n",
       "    </tr>\n",
       "    <tr>\n",
       "      <th>302</th>\n",
       "      <td>397</td>\n",
       "      <td>1716</td>\n",
       "    </tr>\n",
       "    <tr>\n",
       "      <th>303</th>\n",
       "      <td>526</td>\n",
       "      <td>1715</td>\n",
       "    </tr>\n",
       "    <tr>\n",
       "      <th>304</th>\n",
       "      <td>518</td>\n",
       "      <td>1714</td>\n",
       "    </tr>\n",
       "    <tr>\n",
       "      <th>305</th>\n",
       "      <td>433</td>\n",
       "      <td>1713</td>\n",
       "    </tr>\n",
       "    <tr>\n",
       "      <th>306</th>\n",
       "      <td>490</td>\n",
       "      <td>1712</td>\n",
       "    </tr>\n",
       "    <tr>\n",
       "      <th>307</th>\n",
       "      <td>478</td>\n",
       "      <td>1711</td>\n",
       "    </tr>\n",
       "    <tr>\n",
       "      <th>308</th>\n",
       "      <td>233</td>\n",
       "      <td>1710</td>\n",
       "    </tr>\n",
       "    <tr>\n",
       "      <th>309</th>\n",
       "      <td>254</td>\n",
       "      <td>1709</td>\n",
       "    </tr>\n",
       "    <tr>\n",
       "      <th>310</th>\n",
       "      <td>212</td>\n",
       "      <td>1708</td>\n",
       "    </tr>\n",
       "    <tr>\n",
       "      <th>311</th>\n",
       "      <td>298</td>\n",
       "      <td>1707</td>\n",
       "    </tr>\n",
       "    <tr>\n",
       "      <th>312</th>\n",
       "      <td>191</td>\n",
       "      <td>1706</td>\n",
       "    </tr>\n",
       "    <tr>\n",
       "      <th>313</th>\n",
       "      <td>187</td>\n",
       "      <td>1705</td>\n",
       "    </tr>\n",
       "    <tr>\n",
       "      <th>314</th>\n",
       "      <td>282</td>\n",
       "      <td>1704</td>\n",
       "    </tr>\n",
       "    <tr>\n",
       "      <th>315</th>\n",
       "      <td>256</td>\n",
       "      <td>1703</td>\n",
       "    </tr>\n",
       "    <tr>\n",
       "      <th>316</th>\n",
       "      <td>398</td>\n",
       "      <td>1702</td>\n",
       "    </tr>\n",
       "    <tr>\n",
       "      <th>317</th>\n",
       "      <td>411</td>\n",
       "      <td>1701</td>\n",
       "    </tr>\n",
       "  </tbody>\n",
       "</table>\n",
       "<p>318 rows × 2 columns</p>\n",
       "</div>"
      ],
      "text/plain": [
       "     outdeg  year\n",
       "0       174  2018\n",
       "1      1419  2017\n",
       "2      1151  2016\n",
       "3      1135  2015\n",
       "4       851  2014\n",
       "5       722  2013\n",
       "6       639  2012\n",
       "7       642  2011\n",
       "8       694  2010\n",
       "9       648  2009\n",
       "10      752  2008\n",
       "11      708  2007\n",
       "12      593  2006\n",
       "13      510  2005\n",
       "14      518  2004\n",
       "15      575  2003\n",
       "16      482  2002\n",
       "17      971  2001\n",
       "18     1086  2000\n",
       "19     1551  1999\n",
       "20     1584  1998\n",
       "21     1912  1997\n",
       "22     2201  1996\n",
       "23     1740  1995\n",
       "24     1798  1994\n",
       "25     2296  1993\n",
       "26     2425  1992\n",
       "27     2533  1991\n",
       "28     2627  1990\n",
       "29     2855  1989\n",
       "..      ...   ...\n",
       "288     225  1730\n",
       "289     205  1729\n",
       "290     210  1728\n",
       "291     209  1727\n",
       "292     191  1726\n",
       "293     250  1725\n",
       "294     246  1724\n",
       "295     235  1723\n",
       "296     439  1722\n",
       "297     258  1721\n",
       "298     267  1720\n",
       "299     276  1719\n",
       "300     278  1718\n",
       "301     414  1717\n",
       "302     397  1716\n",
       "303     526  1715\n",
       "304     518  1714\n",
       "305     433  1713\n",
       "306     490  1712\n",
       "307     478  1711\n",
       "308     233  1710\n",
       "309     254  1709\n",
       "310     212  1708\n",
       "311     298  1707\n",
       "312     191  1706\n",
       "313     187  1705\n",
       "314     282  1704\n",
       "315     256  1703\n",
       "316     398  1702\n",
       "317     411  1701\n",
       "\n",
       "[318 rows x 2 columns]"
      ]
     },
     "execution_count": 135,
     "metadata": {},
     "output_type": "execute_result"
    }
   ],
   "source": [
    "d_titles, d_outdegs = zip(*date_t_outdegs)\n",
    "d_titles = [int(x) for x in d_titles]\n",
    "date_df = pd.DataFrame({\"year\": d_titles, \"outdeg\":d_outdegs})"
   ]
  },
  {
   "cell_type": "code",
   "execution_count": 150,
   "metadata": {},
   "outputs": [
    {
     "data": {
      "image/png": "[encoded data removed]"
     },
     "metadata": {},
     "output_type": "display_data"
    }
   ],
   "source": [
    "%%R -i date_df\n",
    "\n",
    "ggplot(date_df, aes(x=year, y=outdeg)) + geom_point() + geom_smooth()"
   ]
  },
  {
   "cell_type": "markdown",
   "metadata": {},
   "source": [
    "Finally, let's graph our results in R (because I like and know `ggplot` much better than `matplotlib`)"
   ]
  },
  {
   "cell_type": "code",
   "execution_count": 16,
   "metadata": {},
   "outputs": [],
   "source": [
    "%%capture\n",
    "%%R -i df -o counts\n",
    "library(dplyr)\n",
    "library(ggplot2)\n",
    "\n",
    "counts <- df %>%\n",
    "group_by(outdeg) %>%\n",
    "summarize(n=n()) %>%\n",
    "arrange(desc(n))\n",
    "\n",
    "sd_value <- sd(df$outdeg)\n",
    "\n",
    "\n",
    "counts$cum_n <- cumsum(counts$n)"
   ]
  },
  {
   "cell_type": "code",
   "execution_count": 19,
   "metadata": {},
   "outputs": [
    {
     "data": {
      "text/plain": [
       "[1] \"The average outdegree of an article on Wikipedia is 22.804\"\n",
       "[1] \"The median outdegree of an article on Wikipedia is 11\"\n",
       "[1] \"The standard deviation of an article's outdegree on Wikipedia is 53.49\"\n"
      ]
     },
     "metadata": {},
     "output_type": "display_data"
    },
    {
     "data": {
      "image/png": "[encoded data removed]"
     },
     "metadata": {},
     "output_type": "display_data"
    }
   ],
   "source": [
    "%%R -i counts\n",
    "\n",
    "mean <- sum(counts$outdeg * counts$n) / sum(counts$n)\n",
    "mean <- round(mean, digits=3)\n",
    "print(paste(\"The average outdegree of an article on Wikipedia is\", mean, sep=\" \"))\n",
    "\n",
    "median_index <- as.integer(sum(counts$n)/2)\n",
    "q1_index <- as.integer(sum(counts$n)/4)\n",
    "q3_index <- as.integer(median_index + q1_index)\n",
    "\n",
    "q1_value <- min(which(counts$cum_n > q1_index))\n",
    "median_value <- min(which(counts$cum_n > median_index))\n",
    "print(paste(\"The median outdegree of an article on Wikipedia is\", median_value)) \n",
    "q3_value <- min(which(counts$cum_n > q3_index))\n",
    "\n",
    "sd_value <- round(sd_value, digits=3)\n",
    "print(paste(\"The standard deviation of an article's outdegree on Wikipedia is\", sd_value))\n",
    "\n",
    "desc_df <- data.frame(t(c(min(counts$outdeg), q1_value, median_value, q3_value, \n",
    "  1.5*(q3_value-q1_value) + q3_value )))\n",
    "names(desc_df) <- c(\"min\", \"q1\", \"med\", \"q3\", \"max_iqr\")\n",
    "\n",
    "ggplot(desc_df, aes(x = \"\", middle= median_value, ymin = min,\n",
    "                    ymax = max_iqr, lower = q1, upper = q3)) + \n",
    "    geom_boxplot(stat = \"identity\", fill=\"hotpink\") + coord_flip() +\n",
    "    labs(y=\"Article degree\", x=\"\", title=\"Wikipedia Network Out-Degree\")  +\n",
    "    scale_y_continuous(breaks  = c(0, 10.,20.,30.,40.,50.))\n"
   ]
  },
  {
   "cell_type": "markdown",
   "metadata": {},
   "source": [
    "As we can clearly see, the article degree of Wikipedia articles is strongly skewed to the right"
   ]
  },
  {
   "cell_type": "code",
   "execution_count": 7,
   "metadata": {},
   "outputs": [
    {
     "data": {
      "image/png": "[encoded data removed]"
     },
     "metadata": {},
     "output_type": "display_data"
    }
   ],
   "source": [
    "%%R -i counts\n",
    "\n",
    "\n",
    "print(ggplot(counts, aes(x=outdeg, y=n)) + geom_line(color=\"blue\") +\n",
    "labs(x=\"Outdegree (Number of Hyperlinks from Article)\",\n",
    "     y=\"Number of articles\",\n",
    "     title=\"Count of article outdegree\",\n",
    "     subtitle=\"Regular scales, from 1 to 25 outlinks\") + xlim(1,25) +\n",
    "scale_y_continuous(labels = scales::comma))"
   ]
  },
  {
   "cell_type": "markdown",
   "metadata": {},
   "source": [
    "As we can see, most articles don't have an outdegree of 1 or 2, suggesting the vast majority of articles have more than 2 links associated with them."
   ]
  },
  {
   "cell_type": "code",
   "execution_count": 8,
   "metadata": {},
   "outputs": [
    {
     "data": {
      "image/png": "[encoded data removed]"
     },
     "metadata": {},
     "output_type": "display_data"
    }
   ],
   "source": [
    "%%R -i counts\n",
    "ggplot(counts, aes(x=outdeg, y=n)) + geom_line(color=\"blue\") +\n",
    "labs(x=\"Outdegree (Number of Hyperlinks from Article)\",\n",
    "     y=\"Number of articles\",\n",
    "     title=\"Count of article outdegree\",\n",
    "     subtitle=\"Log-log scales, for all outlinks\") + \n",
    "scale_y_continuous(labels = scales::comma, trans=\"log10\") +\n",
    "scale_x_continuous(trans=\"log10\")"
   ]
  },
  {
   "cell_type": "markdown",
   "metadata": {},
   "source": [
    "Past 6 links, the number of articles with x links ($x>6$) monotonically decreases, and as you can see, the outdegree (when $\\text{outdegree} > 20$ or so) is log-log linear in terms of outdegree, and so can be said to follow a power law distribution with respect to outdegree. Our Wikipedia network can be described as [Scale-Free](https://en.wikipedia.org/wiki/Scale-free_network)."
   ]
  },
  {
   "cell_type": "markdown",
   "metadata": {},
   "source": [
    "## Indegree Analysis"
   ]
  }
 ],
 "metadata": {
  "kernelspec": {
   "display_name": "Python 3",
   "language": "python",
   "name": "python3"
  },
  "language_info": {
   "codemirror_mode": {
    "name": "ipython",
    "version": 3
   },
   "file_extension": ".py",
   "mimetype": "text/x-python",
   "name": "python",
   "nbconvert_exporter": "python",
   "pygments_lexer": "ipython3",
   "version": "3.6.4"
  }
 },
 "nbformat": 4,
 "nbformat_minor": 2
}
