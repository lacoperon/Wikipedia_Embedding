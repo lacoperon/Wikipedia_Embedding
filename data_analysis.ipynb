{
 "cells": [
  {
   "cell_type": "markdown",
   "metadata": {},
   "source": [
    "# Analysis of Wikipedia Network\n",
    "Elliot Williams<br>March 24, 2018<br>Web Scraping w. Prof. Oleinikov\n",
    "\n",
    "## Background\n",
    "\n",
    "Before this point, I ran `extractHTML.sh` on the entire set of Wikipedia articles, accessible from the [Internet Archive](https://archive.org/search.php?query=subject%3A%22enwiki%22%20AND%20subject%3A%22data%20dumps%22%20AND%20collection%3A%22wikimediadownloads%22&and[]=subject%3A%22Wikipedia%22), resulting in 54 files representing the adjacency list of the directed Wikipedia network (in which articles are nodes, hyperlinks edges).\n",
    "\n",
    "## Analyzing the Results\n",
    "\n",
    "Now, I want to plot the out degree distribution of the Wikipedia network, as well as see some instances of high-degree nodes.\n",
    "\n",
    "Let's start by figuring out the number of nodes and edges in all the files..."
   ]
  },
  {
   "cell_type": "code",
   "execution_count": 32,
   "metadata": {},
   "outputs": [
    {
     "name": "stdout",
     "output_type": "stream",
     "text": [
      "Waiting for redis server at 127.0.0.1:65530 to respond...\n",
      "Waiting for redis server at 127.0.0.1:54793 to respond...\n",
      "Starting local scheduler with the following resources: {'CPU': 16, 'GPU': 0}.\n",
      "\n",
      "======================================================================\n",
      "View the web UI at http://localhost:8889/notebooks/ray_ui12217.ipynb?token=de8533dfb8e08659f65f164609b13684050b2c0522595c25\n",
      "======================================================================\n",
      "\n"
     ]
    }
   ],
   "source": [
    "import re\n",
    "import glob\n",
    "import ray\n",
    "\n",
    "file_list = glob.glob(\"./link_files/*.dat\")\n",
    "\n",
    "@ray.remote\n",
    "def getOutdegs(filename):\n",
    "    f = open(filename)\n",
    "\n",
    "    # Parses out HTTP links --> just in case any got through the initial search\n",
    "    # Also, some of the links contain '#' pointers to specific parts of an article \n",
    "    # -- let's remove these (both done in one loop for speed purposes)\n",
    "    lines = [re.sub(\"#.*\", \"\", line.strip()) for line in f if \n",
    "             not re.search(\"https?:\\/\\/\", line)]\n",
    "\n",
    "    t_indices = [i for i in range(len(lines)) if re.search(\">>>>\", lines[i])]\n",
    "\n",
    "    print(\"There are {} nodes represented in this file\".format(len(t_indices)))\n",
    "    print(\"There are {} edges in this file\".format(len(lines) - len(t_indices)))\n",
    "    \n",
    "    titles   = [re.sub(\">>>>\", \"\", lines[i]) for i in t_indices]\n",
    "    out_degs = [t_indices[i+1] - t_indices[i] - 1 \n",
    "                for i in range(len(t_indices) - 1)]\n",
    "    t_outdegs = list(zip(titles, out_degs))\n",
    "    t_outdegs.sort(key=lambda x : x[1], reverse=True)\n",
    "    return(t_outdegs)\n",
    "\n",
    "ray.init()\n",
    "file_results = ray.get([getOutdegs.remote(filename) for filename in file_list])"
   ]
  },
  {
   "cell_type": "code",
   "execution_count": 40,
   "metadata": {},
   "outputs": [],
   "source": [
    "from functools import reduce\n",
    "t_outdegs = reduce(lambda x,y : x + y, file_results)\n",
    "t_outdegs.sort(key=lambda x: x[1], reverse=True)"
   ]
  },
  {
   "cell_type": "code",
   "execution_count": 46,
   "metadata": {},
   "outputs": [],
   "source": [
    "t_outdegs[1:50]\n",
    "len(t_outdegs)\n",
    "\n",
    "import pandas as pd\n",
    "titles, outdegs = zip(*t_outdegs)\n",
    "df = pd.DataFrame({\"title\": titles, \"outdeg\":outdegs})"
   ]
  },
  {
   "cell_type": "code",
   "execution_count": 47,
   "metadata": {},
   "outputs": [
    {
     "name": "stderr",
     "output_type": "stream",
     "text": [
      "UsageError: Cell magic `%%R` not found.\n"
     ]
    }
   ],
   "source": [
    "%%R -i df"
   ]
  }
 ],
 "metadata": {
  "kernelspec": {
   "display_name": "Python 3",
   "language": "python",
   "name": "python3"
  },
  "language_info": {
   "codemirror_mode": {
    "name": "ipython",
    "version": 3
   },
   "file_extension": ".py",
   "mimetype": "text/x-python",
   "name": "python",
   "nbconvert_exporter": "python",
   "pygments_lexer": "ipython3",
   "version": "3.6.4"
  }
 },
 "nbformat": 4,
 "nbformat_minor": 2
}
