{
 "cells": [
  {
   "cell_type": "markdown",
   "metadata": {},
   "source": [
    "# Analysis of Wikipedia Network\n",
    "Elliot Williams<br>March 24, 2018<br>Web Scraping w. Prof. Oleinikov\n",
    "\n",
    "## Background\n",
    "\n",
    "Before this point, I ran `extractHTML.sh` on the entire set of Wikipedia articles, accessible from the [Internet Archive](https://archive.org/search.php?query=subject%3A%22enwiki%22%20AND%20subject%3A%22data%20dumps%22%20AND%20collection%3A%22wikimediadownloads%22&and[]=subject%3A%22Wikipedia%22), resulting in 54 files representing the adjacency list of the entire Wikipedia network (in which articles are nodes, hyperlinks directed edges).\n",
    "\n",
    "## Analyzing the Results\n",
    "\n",
    "Firstly, I want to plot the out degree distribution of the Wikipedia network, as well as see some instances of high-outdegree nodes.\n",
    "\n",
    "Let's start by figuring out the number of nodes and their associated degrees, which we do by applying some smart regex and newline counts on all of our result files.\n",
    "\n",
    "(**Sidenote**: I'm running this on the CS kurtz server -- it takes forever to run on my laptop -- and I'm using [ray](http://ray.readthedocs.io/en/latest/) to run some of my code -- ie `getOutdegs` -- in parallel without having to implement it in parallel myself)"
   ]
  },
  {
   "cell_type": "code",
   "execution_count": 1,
   "metadata": {},
   "outputs": [],
   "source": [
    "%%capture\n",
    "%load_ext rpy2.ipython\n",
    "# This code just imports python libraries and initializes ray\n",
    "import ray\n",
    "import re\n",
    "import glob\n",
    "from functools import reduce\n",
    "import pandas as pd\n",
    "ray.init()"
   ]
  },
  {
   "cell_type": "code",
   "execution_count": 2,
   "metadata": {},
   "outputs": [],
   "source": [
    "# Gets list of all adjacency list files\n",
    "file_list = glob.glob(\"./PreviousResults/Jan202018/*.dat\")\n",
    "\n",
    "'''\n",
    "The following function reads in a given adjacency list file and returns\n",
    "a list containing elements of format (articleName, outdegree).\n",
    "'''\n",
    "@ray.remote\n",
    "def getOutdegs(filename):\n",
    "    f = open(filename)\n",
    "\n",
    "    # Parses out HTTP links --> just in case any got through the initial search\n",
    "    # Also, some of the links contain '#' pointers to specific parts of an article \n",
    "    # -- let's remove these (both done in one loop for speed purposes)\n",
    "    lines = [re.sub(\"#.*\", \"\", line.strip()) for line in f if \n",
    "             not re.search(\"https?:\\/\\/\", line)]\n",
    "\n",
    "    # This list contains the line number associated with all article titles\n",
    "    # (These, in my schema, are the lines starting with >>>>)\n",
    "    t_indices = [i for i in range(len(lines)) if re.search(\">>>>\", lines[i])]\n",
    "    \n",
    "    # This list contains all titles in this file\n",
    "    titles   = [re.sub(\">>>>\", \"\", lines[i]) for i in t_indices]\n",
    "    \n",
    "    # Here, we use some smart regex and line counting to derive all of the outdegrees of articles\n",
    "    # (by counting the lines between each instance of '>>>>', and dealing with the edge case of the end of the file)\n",
    "    out_degs = [t_indices[i+1] - t_indices[i] - 1 \n",
    "                for i in range(len(t_indices) - 1)] + [len(lines[t_indices[-1]:])]\n",
    "    t_outdegs = list(zip(titles, out_degs))\n",
    "    return(t_outdegs)\n",
    "\n",
    "# Here, we obtain the outdegree list for all of our output files,\n",
    "# run in parallel using ray\n",
    "file_results = ray.get([getOutdegs.remote(filename) for filename in file_list])"
   ]
  },
  {
   "cell_type": "markdown",
   "metadata": {},
   "source": [
    "Now that we have our results for each file, let's combine all of the results together into one dataset we can manage"
   ]
  },
  {
   "cell_type": "code",
   "execution_count": 3,
   "metadata": {},
   "outputs": [],
   "source": [
    "# Combines all of our results into one list\n",
    "t_outdegs = reduce(lambda x,y : x + y, file_results)\n",
    "t_outdegs.sort(key=lambda x: x[1], reverse=True)"
   ]
  },
  {
   "cell_type": "code",
   "execution_count": 4,
   "metadata": {},
   "outputs": [],
   "source": [
    "# Converts dataset into Pandas DataFrame,\n",
    "# for later passing the data into R\n",
    "titles, outdegs = zip(*t_outdegs)\n",
    "df = pd.DataFrame({\"title\": titles, \"outdeg\":outdegs})"
   ]
  },
  {
   "cell_type": "markdown",
   "metadata": {},
   "source": [
    "## Basic Analysis of Network Structure\n",
    "\n",
    "Now that we have a dataset consisting of the outdegree of every article on Wikipedia, let's see what the distribution of outdegrees is among all articles, which I do in the next three figures. The code below calculates relevant statistics (ie the mean, median, Q1, Q3, and standard deviation of the Wikipedia outdegrees), and plots them in the three graphs below.\n",
    "\n",
    "Let's start with a box-and-whiskers plot of the outdegree, excluding outliers (ie high degree articles)"
   ]
  },
  {
   "cell_type": "code",
   "execution_count": 5,
   "metadata": {},
   "outputs": [],
   "source": [
    "%%capture\n",
    "%%R -i df -o counts\n",
    "library(dplyr)\n",
    "library(ggplot2)\n",
    "\n",
    "# Here, we produce a frequency table for Wikipedia article outdegrees\n",
    "counts <- df %>%\n",
    "group_by(outdeg) %>%\n",
    "summarize(n=n()) %>%\n",
    "arrange(desc(n))\n",
    "\n",
    "# ... and calculate the standard deviation \n",
    "sd_value <- sd(df$outdeg)\n",
    "# ... and the cumulative frequency of the dataset\n",
    "counts$cum_n <- cumsum(counts$n)"
   ]
  },
  {
   "cell_type": "code",
   "execution_count": 6,
   "metadata": {},
   "outputs": [
    {
     "data": {
      "text/plain": [
       "[1] \"The average outdegree of an article on Wikipedia is 22.804\"\n",
       "[1] \"The median outdegree of an article on Wikipedia is 11\"\n",
       "[1] \"The standard deviation of an article's outdegree on Wikipedia is 53.49\"\n"
      ]
     },
     "metadata": {},
     "output_type": "display_data"
    },
    {
     "data": {
      "image/png": "[encoded data removed]"
     },
     "metadata": {},
     "output_type": "display_data"
    }
   ],
   "source": [
    "%%R -i counts\n",
    "\n",
    "# Mean calculating logic\n",
    "mean <- sum(counts$outdeg * counts$n) / sum(counts$n)\n",
    "mean <- round(mean, digits=3)\n",
    "print(paste(\"The average outdegree of an article on Wikipedia is\", mean, sep=\" \"))\n",
    "\n",
    "# Q1, Median, Q3 calculating logic\n",
    "median_index <- as.integer(sum(counts$n)/2)\n",
    "q1_index <- as.integer(sum(counts$n)/4)\n",
    "q3_index <- as.integer(median_index + q1_index)\n",
    "q1_value <- min(which(counts$cum_n > q1_index))\n",
    "median_value <- min(which(counts$cum_n > median_index))\n",
    "print(paste(\"The median outdegree of an article on Wikipedia is\", median_value)) \n",
    "q3_value <- min(which(counts$cum_n > q3_index))\n",
    "\n",
    "# Standard Deviation printing logic\n",
    "sd_value <- round(sd_value, digits=3)\n",
    "print(paste(\"The standard deviation of an article's outdegree on Wikipedia is\", sd_value))\n",
    "\n",
    "# And now we print a box-and-whisker plot of the data, excluding 'outliers'\n",
    "# (< 1.5 IQR outside of middle 50% of data)\n",
    "desc_df <- data.frame(t(c(min(counts$outdeg), q1_value, median_value, q3_value, \n",
    "  1.5*(q3_value-q1_value) + q3_value )))\n",
    "names(desc_df) <- c(\"min\", \"q1\", \"med\", \"q3\", \"max_iqr\")\n",
    "\n",
    "ggplot(desc_df, aes(x = \"\", middle= median_value, ymin = min,\n",
    "                    ymax = max_iqr, lower = q1, upper = q3)) + \n",
    "    geom_boxplot(stat = \"identity\", fill=\"hotpink\") + coord_flip() +\n",
    "    labs(y=\"Article degree\", x=\"\", title=\"Wikipedia Network Out-Degree\")  +\n",
    "    scale_y_continuous(breaks  = c(0, 10.,20.,30.,40.,50.))\n"
   ]
  },
  {
   "cell_type": "markdown",
   "metadata": {},
   "source": [
    "Let's also plot the outdegree of small-outdegree articles as a regular frequency line graph"
   ]
  },
  {
   "cell_type": "code",
   "execution_count": 7,
   "metadata": {},
   "outputs": [
    {
     "data": {
      "image/png": "[encoded data removed]"
     },
     "metadata": {},
     "output_type": "display_data"
    }
   ],
   "source": [
    "%%R -i counts\n",
    "\n",
    "print(ggplot(counts, aes(x=outdeg, y=n)) + geom_line(color=\"blue\") +\n",
    "labs(x=\"Outdegree (Number of Hyperlinks from Article)\",\n",
    "     y=\"Number of articles\",\n",
    "     title=\"Count of article outdegree\",\n",
    "     subtitle=\"Regular scales, from 1 to 25 outlinks\") + xlim(1,25) +\n",
    "scale_y_continuous(labels = scales::comma))"
   ]
  },
  {
   "cell_type": "markdown",
   "metadata": {},
   "source": [
    "We can see from the above two graphs that the Wikipedia articles strongly skew right with respect to the number of links per page.\n",
    "\n",
    "Now, let's see what distribution the outdegree of articles follows asymptotically..."
   ]
  },
  {
   "cell_type": "code",
   "execution_count": 8,
   "metadata": {},
   "outputs": [
    {
     "data": {
      "image/png": "[encoded data removed]"
     },
     "metadata": {},
     "output_type": "display_data"
    }
   ],
   "source": [
    "%%R -i counts\n",
    "ggplot(counts, aes(x=outdeg, y=n)) + geom_line(color=\"blue\") +\n",
    "labs(x=\"Outdegree (Number of Hyperlinks from Article)\",\n",
    "     y=\"Number of articles\",\n",
    "     title=\"Count of article outdegree\",\n",
    "     subtitle=\"Log-log scales, for all outlinks\") + \n",
    "scale_y_continuous(labels = scales::comma, trans=\"log10\") +\n",
    "scale_x_continuous(trans=\"log10\")"
   ]
  },
  {
   "cell_type": "markdown",
   "metadata": {},
   "source": [
    "Past 6 links, the number of articles with x links ($x>6$) monotonically decreases, and as you can see, the outdegree (when $\\text{outdegree} > 20$ or so) is log-log linear in terms of outdegree, and so can be said to follow a power law distribution with respect to outdegree. Our Wikipedia network can be described as [Scale-Free](https://en.wikipedia.org/wiki/Scale-free_network)."
   ]
  },
  {
   "cell_type": "markdown",
   "metadata": {},
   "source": [
    "## What types of articles have high outdegree?"
   ]
  },
  {
   "cell_type": "code",
   "execution_count": 9,
   "metadata": {},
   "outputs": [
    {
     "data": {
      "text/plain": [
       "[('Rosters of the top basketball teams in European club competitions', 9068),\n",
       " ('List of film director and actor collaborations', 8861),\n",
       " ('Timeline of heavy metal and hard rock music', 8333),\n",
       " ('List of stage names', 6646),\n",
       " ('List of years in jazz', 6490),\n",
       " ('List of dialling codes in Germany', 6381),\n",
       " ('List of male mixed martial artists', 6300),\n",
       " ('List of performances on Top of the Pops', 6249),\n",
       " ('List of OMIM disorder codes', 6210),\n",
       " ('List of populated places in Bosnia and Herzegovina', 6007),\n",
       " ('List of cities, towns and villages in Kerman Province', 5853),\n",
       " ('List of protected areas of China', 5842),\n",
       " ('List of people from Texas', 5827),\n",
       " ('Index of Telangana-related articles', 5778),\n",
       " ('Index of Andhra Pradesh-related articles', 5698),\n",
       " ('List of cities, towns and villages in Sistan and Baluchestan Province',\n",
       "  5606),\n",
       " ('Alphabetical list of comunes of Italy', 5492),\n",
       " ('List of foreign football players in Serbia', 5395),\n",
       " ('Index of India-related articles', 5315),\n",
       " ('List of foreign Bundesliga players', 5187),\n",
       " ('List of film director and composer collaborations', 5127),\n",
       " ('Index of Italy-related articles', 5087),\n",
       " ('List of foreign Premier League players', 5038),\n",
       " ('List of foreign football players in Cypriot First Division', 4932),\n",
       " ('List of historical German and Czech names for places in the Czech Republic',\n",
       "  4834),\n",
       " ('Timeline of London', 4826),\n",
       " ('List of Cornell University alumni', 4823),\n",
       " ('List of aircraft engines', 4783),\n",
       " ('List of populated places in Serbia (alphabetic)', 4691)]"
      ]
     },
     "execution_count": 9,
     "metadata": {},
     "output_type": "execute_result"
    }
   ],
   "source": [
    "# List of highest outdegree articles\n",
    "t_outdegs[1:30]"
   ]
  },
  {
   "cell_type": "markdown",
   "metadata": {},
   "source": [
    "We can see that lists dominate high-outdegree Wikipedia articles, which is interesting because some of these articles are rendered using templates (ie directly copying other articles), which isn't represented within the January 20th, 2018 Wikipedia extraction I did (those links were thrown away).\n",
    "\n",
    "In the first results above, we also see a some of 'List of [X University]' people entries. We could use the outdegree of these articles a as proxy measure of universities with interesting / noteworthy alumni. I do that below (scroll down to later in the document to see this).\n",
    "\n",
    "## Non-List High Outdegree Wikipedia Articles\n",
    "\n",
    "Having said that, I want to see what other Wikipedia articles have high degree that aren't Lists or Indices. So, I filter them out below..."
   ]
  },
  {
   "cell_type": "code",
   "execution_count": 10,
   "metadata": {},
   "outputs": [
    {
     "data": {
      "text/plain": [
       "[('2016 in the United States', 3927),\n",
       " ('2018 in sports', 3747),\n",
       " ('Italian Athletics Championships', 3615),\n",
       " ('Culture of the United Kingdom', 3412),\n",
       " ('Flora of Lebanon', 3099),\n",
       " ('2016 in aviation', 3066),\n",
       " ('1979', 2968),\n",
       " ('2017 in the United States', 2945),\n",
       " ('Agrilus', 2895),\n",
       " ('1989', 2855),\n",
       " ('1945', 2767),\n",
       " ('2015 in aviation', 2737),\n",
       " ('The Neptunes production discography', 2713),\n",
       " ('1990', 2627),\n",
       " ('1991', 2533),\n",
       " ('Phyllosticta', 2530),\n",
       " ('1992', 2425),\n",
       " ('1970', 2415),\n",
       " ('1972', 2385),\n",
       " ('Plants of the Reserva de la Biosfera Manantlan', 2383),\n",
       " ('1986', 2358),\n",
       " ('1942', 2345),\n",
       " ('Scientific phenomena named after people', 2343),\n",
       " ('1988', 2341),\n",
       " ('1944', 2341),\n",
       " ('1973', 2339),\n",
       " ('1980', 2334),\n",
       " ('Roads in Malta', 2297),\n",
       " ('1993', 2296)]"
      ]
     },
     "execution_count": 10,
     "metadata": {},
     "output_type": "execute_result"
    }
   ],
   "source": [
    "f_t_outdegs = list(filter(lambda x : not re.search(\"((L|l)ist)|(Index)|(Timeline)\", x[0]), t_outdegs))\n",
    "f_t_outdegs[1:30]"
   ]
  },
  {
   "cell_type": "markdown",
   "metadata": {},
   "source": [
    "Now we see that year articles tend to dominate high-degree articles. Let's try excluding these articles, and let's graph the results"
   ]
  },
  {
   "cell_type": "code",
   "execution_count": 53,
   "metadata": {},
   "outputs": [],
   "source": [
    "f_y_t_outdegs = list(filter(lambda x : not re.search(\"[0-9]{4}\", x[0]), f_t_outdegs))\n",
    "def outdeg_to_df(t_outdegs, num_results):\n",
    "    titles, outdegs = zip(*t_outdegs[:num_results+1])\n",
    "    df = pd.DataFrame({\"title\":titles, \"outdeg\":outdegs})\n",
    "    return(df)\n",
    "\n",
    "f_y_df = outdeg_to_df(f_y_t_outdegs, 30)"
   ]
  },
  {
   "cell_type": "code",
   "execution_count": 57,
   "metadata": {},
   "outputs": [
    {
     "data": {
      "image/png": "[encoded data removed]"
     },
     "metadata": {},
     "output_type": "display_data"
    }
   ],
   "source": [
    "%%R -i f_y_df\n",
    "library(ggplot2)\n",
    "library(dplyr)\n",
    "    \n",
    "plot_t_df <- function(f_y_df, title_label, title, subtitle=\"\") {\n",
    "    orig_title <- factor(f_y_df$title)\n",
    "    f_y_df$title <- factor(f_y_df$title, levels=f_y_df$title[order(f_y_df$outdeg)])\n",
    "    ggplot(f_y_df, aes(x=title, y=outdeg, fill=orig_title)) + geom_bar(stat=\"identity\") +\n",
    "    coord_flip() + theme(legend.position=\"\") +\n",
    "    labs(title=title,\n",
    "     y = \"Outdegree\",\n",
    "     x = title_label,\n",
    "     subtitle=subtitle)\n",
    "}    \n",
    "\n",
    "plot_t_df(f_y_df, \"Article\", \"Wikipedia Outdegree of Articles\")\n"
   ]
  },
  {
   "cell_type": "markdown",
   "metadata": {},
   "source": [
    "I'm a fan of how esoteric these article titles are beginning to look. It's also fascinating that something as (to me) boring as European basketball has the longest Wikipedia article that isn't a list, index or year. \n",
    "\n",
    "These articles also raise several new areas of inquiry, though (ie **Discography** and **All-Time Baseball Rosters**, see below)"
   ]
  },
  {
   "cell_type": "markdown",
   "metadata": {},
   "source": [
    "## Analysis of University Alumni Lists\n",
    "\n",
    "Now, let's filter out our dataset to analyze only lists of university/college alumni."
   ]
  },
  {
   "cell_type": "code",
   "execution_count": 61,
   "metadata": {},
   "outputs": [],
   "source": [
    "uni_t_outdegs = list(filter(lambda x : re.search(\"List.*(University|College).*(people|alumni)\", x[0]), t_outdegs))"
   ]
  },
  {
   "cell_type": "markdown",
   "metadata": {},
   "source": [
    "How many of these articles do we have?"
   ]
  },
  {
   "cell_type": "code",
   "execution_count": 14,
   "metadata": {},
   "outputs": [
    {
     "data": {
      "text/plain": [
       "689"
      ]
     },
     "execution_count": 14,
     "metadata": {},
     "output_type": "execute_result"
    }
   ],
   "source": [
    "len(uni_t_outdegs)"
   ]
  },
  {
   "cell_type": "markdown",
   "metadata": {},
   "source": [
    "And what do high degree articles look like?"
   ]
  },
  {
   "cell_type": "code",
   "execution_count": 15,
   "metadata": {},
   "outputs": [
    {
     "data": {
      "text/plain": [
       "[('List of University of Pennsylvania people', 4175),\n",
       " ('List of Columbia College people', 3575),\n",
       " ('List of University of Toronto people', 2924),\n",
       " ('List of Wesleyan University people', 2486),\n",
       " ('List of University of Cambridge people', 2351),\n",
       " ('List of Duke University people', 2259),\n",
       " ('List of Columbia University alumni', 2196),\n",
       " ('List of Columbia University alumni and attendees', 2121),\n",
       " ('List of Yale University people', 2045),\n",
       " ('List of Brown University people', 2040),\n",
       " ('List of Columbia University people in politics, military and law', 1967),\n",
       " ('List of Stanford University people', 1880),\n",
       " ('List of University of Wisconsin–Madison people', 1876),\n",
       " ('List of University of Southern California people', 1842),\n",
       " ('List of University of California, Los Angeles people', 1737),\n",
       " ('List of University of Florida alumni', 1603),\n",
       " ('List of University of Minnesota people', 1588),\n",
       " ('List of Williams College people', 1570),\n",
       " ('List of Northwestern University alumni', 1533)]"
      ]
     },
     "execution_count": 15,
     "metadata": {},
     "output_type": "execute_result"
    }
   ],
   "source": [
    "uni_t_outdegs[1:20]"
   ]
  },
  {
   "cell_type": "markdown",
   "metadata": {},
   "source": [
    "Now, let's try to get rid of the \"in\", \"with\" and \"and\" results, which will only serve to double count people.\n",
    "\n",
    "**Note: this is an imperfect assumption, due to the fact that templates are used in some 'List' articles. For example, this excludes the vast majority of Harvard/Dartmouth links, because alumni lists for those schools are divided up into multiple articles. I will spend some more time manually combining this dataset in future.**\n",
    "\n",
    "**That, or I will edit my parsing workflow to expand these templates**"
   ]
  },
  {
   "cell_type": "code",
   "execution_count": 62,
   "metadata": {},
   "outputs": [],
   "source": [
    "uni_t_outdegs_filt = list(filter(lambda x : not re.search(\"( in )|( with )|( and )\", x[0]), uni_t_outdegs))\n",
    "uni_df = outdeg_to_df(uni_t_outdegs_filt, 1000)"
   ]
  },
  {
   "cell_type": "code",
   "execution_count": 65,
   "metadata": {},
   "outputs": [
    {
     "data": {
      "image/png": "[encoded data removed]"
     },
     "metadata": {},
     "output_type": "display_data"
    }
   ],
   "source": [
    "%%R -i uni_df\n",
    "library(ggplot2)\n",
    "library(dplyr)\n",
    "\n",
    "# I'm making the arbitrary decision to graph only institutions with an outdegree > 1000\n",
    "uni_df <- filter(uni_df, outdeg > 1000) %>%\n",
    "    mutate(title=gsub(\"List of \", \"\", title),\n",
    "           title=gsub(\" (people|alumni)\", \"\", title))\n",
    "    \n",
    "plot_t_df(uni_df, \"Institution\", \"Wikipedia Outdegree of Alumni by Institution\")"
   ]
  },
  {
   "cell_type": "code",
   "execution_count": 68,
   "metadata": {},
   "outputs": [],
   "source": [
    "NESCAC_schools = [\"Amherst College\", \"Wesleyan University\", \"Bowdoin College\",\n",
    "                  \"Colby College\"  , \"Connecticut College\", \"Hamilton College\",\n",
    "                  \"Middlebury College\", \"Trinity College \\(Connecticut\\)\", \"Tufts University\",\n",
    "                  \"Williams College\"]\n",
    "nescac_t_outdegs = []\n",
    "for school in NESCAC_schools:\n",
    "    nescac_t_outdegs += list(filter(lambda x : re.search(\"List of \" +school, x[0]), uni_t_outdegs))\n",
    "    \n",
    "nes_df = outdeg_to_df(nescac_t_outdegs, 10000)"
   ]
  },
  {
   "cell_type": "markdown",
   "metadata": {},
   "source": [
    "By looking at the Colby College website, I see that their alumni list is divided up into multiple articles, and the `List of Colby College alumni` article is generated via templates. So, I exclude this school, pending a workaround of the template generation issue. All other schools are fair for comparison. So, let's graph each institution's article outdegree."
   ]
  },
  {
   "cell_type": "code",
   "execution_count": 72,
   "metadata": {},
   "outputs": [
    {
     "data": {
      "image/png": "[encoded data removed]"
     },
     "metadata": {},
     "output_type": "display_data"
    }
   ],
   "source": [
    "%%R -i nes_df\n",
    "\n",
    "library(ggplot2)\n",
    "\n",
    "nes_df <- nes_df %>% filter(title != \"List of Colby College alumni\")\n",
    "\n",
    "nes_df <- nes_df %>% mutate(title=gsub(\"List of \", \"\", title),\n",
    "           title=gsub(\" (people|alumni)\", \"\", title))\n",
    "\n",
    "plot_t_df(nes_df, \"Institution\", \"Wiki Outdegree of NESCAC Alumni\", \"Excluding Colby College\")"
   ]
  },
  {
   "cell_type": "markdown",
   "metadata": {},
   "source": [
    "As you can see, of all NESCAC schools with data, Wesleyan has the most Wikipedia links on its alumni page. My three interpretations of this are:\n",
    "\n",
    "1. That we are a school with cool, noteworthy alumni (my personal favorite interpretation)\n",
    "2. That we punch above our weight when it comes to editing our Wikipedia page (ie more Wikipedians went to / care about Wesleyan)\n",
    "3. Michael Roth spends his nights editing our Wikipedia page"
   ]
  },
  {
   "cell_type": "markdown",
   "metadata": {},
   "source": [
    "I'm vaguely interested in repeating the same analysis for Ivy League institutions..."
   ]
  },
  {
   "cell_type": "code",
   "execution_count": 73,
   "metadata": {},
   "outputs": [],
   "source": [
    "Ivy_Schools = [\"Brown University\", \"Columbia University\", \"Cornell University\",\n",
    "               \"Dartmouth College\", \"Harvard University\", \"University of Pennsylvania\",\n",
    "               \"Princeton University\", \"Yale University\"]\n",
    "ivy_t_outdegs = []\n",
    "for school in Ivy_Schools:\n",
    "    ivy_t_outdegs += list(filter(lambda x : re.search(\"(?<=List of) \" + school + \" (people|alumni)(?=)\", x[0]), uni_t_outdegs))\n",
    "ivy_t_outdegs = list(filter(lambda x : not re.search(\"\\(.*\\)\", x[0]), ivy_t_outdegs))\n",
    "ivy_t_outdegs = list(filter(lambda x : not re.search(\"Columbia University people\", x[0]),\n",
    "                            ivy_t_outdegs))\n",
    "ivy_df = outdeg_to_df(ivy_t_outdegs, len(Ivy_Schools))"
   ]
  },
  {
   "cell_type": "code",
   "execution_count": 76,
   "metadata": {},
   "outputs": [
    {
     "data": {
      "image/png": "[encoded data removed]"
     },
     "metadata": {},
     "output_type": "display_data"
    }
   ],
   "source": [
    "%%R -i ivy_df\n",
    "library(ggplot2)\n",
    "# The same issue of few links due to templates applies to Harvard and Dartmouth\n",
    "# So, let's filter them out...\n",
    "ivy_df <- ivy_df %>% filter(title != \"List of Dartmouth College alumni\", title!= \"List of Harvard University people\")\n",
    "\n",
    "ivy_df <- ivy_df %>% mutate(title=gsub(\"List of \", \"\", title),\n",
    "           title=gsub(\" (people|alumni)\", \"\", title))\n",
    "plot_t_df(ivy_df, \"Institution\", \"Wiki Outdegree of Ivy League Alumni\", \"Excluding Harvard, Dartmouth\")"
   ]
  },
  {
   "cell_type": "markdown",
   "metadata": {},
   "source": [
    "## Wikipedian Interest by Year\n",
    "\n",
    "Another interesting question posed above is which years are more 'interesting', gauged by the number of Wikipedia-facing links present on the Wikipedia page of each year."
   ]
  },
  {
   "cell_type": "code",
   "execution_count": 22,
   "metadata": {},
   "outputs": [],
   "source": [
    "# Filtering out only numeric articles with title length 4\n",
    "date_t_outdegs = list(filter(lambda x : re.search(\"[0-9]{4}\", x[0]), f_t_outdegs))\n",
    "date_t_outdegs = list(filter(lambda x : len(x[0]) == 4, date_t_outdegs))\n",
    "\n",
    "# But we only care about years... so we filter all above 2018 and below 1700\n",
    "date_t_outdegs = [x for x in date_t_outdegs if int(x[0]) > 1700 and int(x[0])<2019]\n"
   ]
  },
  {
   "cell_type": "code",
   "execution_count": 23,
   "metadata": {},
   "outputs": [
    {
     "name": "stdout",
     "output_type": "stream",
     "text": [
      "There are 318 year articles between 1700 and 2018\n"
     ]
    },
    {
     "data": {
      "text/plain": [
       "[('2017', 1419), ('2016', 1151), ('2015', 1135), ('2014', 851)]"
      ]
     },
     "execution_count": 23,
     "metadata": {},
     "output_type": "execute_result"
    }
   ],
   "source": [
    "print(\"There are {} year articles between 1700 and 2018\".format(len(date_t_outdegs)))\n",
    "date_t_outdegs.sort(reverse=True)\n",
    "date_t_outdegs[1:5]"
   ]
  },
  {
   "cell_type": "markdown",
   "metadata": {},
   "source": [
    "Now that we've filtered out all non-date articles, let's graph each article's outdegree by the year it is associated with"
   ]
  },
  {
   "cell_type": "code",
   "execution_count": 24,
   "metadata": {},
   "outputs": [],
   "source": [
    "d_titles, d_outdegs = zip(*date_t_outdegs)\n",
    "d_titles = [int(x) for x in d_titles]\n",
    "date_df = pd.DataFrame({\"year\": d_titles, \"outdeg\":d_outdegs})"
   ]
  },
  {
   "cell_type": "code",
   "execution_count": 25,
   "metadata": {},
   "outputs": [
    {
     "data": {
      "image/png": "[encoded data removed]"
     },
     "metadata": {},
     "output_type": "display_data"
    }
   ],
   "source": [
    "%%R -i date_df\n",
    "\n",
    "ggplot(date_df, aes(x=year, y=outdeg)) + geom_point() + geom_smooth(span=0.1, method='loess') +\n",
    "    labs(title=\"Wikipedian Interest by Year\", x=\"Year\", y=\"Outdegree\")"
   ]
  },
  {
   "cell_type": "markdown",
   "metadata": {},
   "source": [
    "The above graph is a good proxy measure for how historically interesting various years were, based on the number of Wikipedia articles written about events in each given year. I find it fascinating to see how the graph peaks during World War I, World War II, and the height of the Cold War."
   ]
  },
  {
   "cell_type": "markdown",
   "metadata": {},
   "source": [
    "## Discography Analysis\n",
    "\n",
    "Recall that above, we saw that some of the highest degree articles were about discography. Let's graph the highest degree articles on the subject..."
   ]
  },
  {
   "cell_type": "code",
   "execution_count": 45,
   "metadata": {},
   "outputs": [],
   "source": [
    "disco_outdegs = [x for x in f_y_t_outdegs if re.search(\"discography\", x[0])]\n",
    "d_titles, d_outdegs = zip(*disco_outdegs[0:30])\n",
    "disco_df = pd.DataFrame({\"title\":d_titles, \"outdeg\":d_outdegs})"
   ]
  },
  {
   "cell_type": "code",
   "execution_count": 78,
   "metadata": {},
   "outputs": [
    {
     "data": {
      "image/png": "[encoded data removed]"
     },
     "metadata": {},
     "output_type": "display_data"
    }
   ],
   "source": [
    "%%R -i disco_df\n",
    "\n",
    "orig_title <- factor(disco_df$title)\n",
    "disco_df$title <- gsub(\" discography\", \"\", disco_df$title)\n",
    "    \n",
    "disco_df$title <- factor(disco_df$title, levels=disco_df$title[order(disco_df$outdeg)])\n",
    "ggplot(disco_df, aes(x=title, y=outdeg, fill=orig_title)) + geom_bar(stat=\"identity\") +\n",
    "    coord_flip() + theme(legend.position=\"\") +\n",
    "    labs(title=\"Artist/Label Discography Outdegree\",\n",
    "             x= \"Artist/Label\", y=\"Outdegree\")"
   ]
  },
  {
   "cell_type": "markdown",
   "metadata": {},
   "source": [
    "... and now I know who [Ted Jensen](https://en.wikipedia.org/wiki/Ted_Jensen) is, the prodigous producer."
   ]
  },
  {
   "cell_type": "markdown",
   "metadata": {},
   "source": [
    "## Baseball Roster Analysis\n",
    "\n",
    "Let's do the same routine for baseball."
   ]
  },
  {
   "cell_type": "code",
   "execution_count": 80,
   "metadata": {},
   "outputs": [
    {
     "name": "stdout",
     "output_type": "stream",
     "text": [
      "141\n"
     ]
    }
   ],
   "source": [
    "bb_outdegs = [x for x in f_y_t_outdegs if re.search(\"all-time roster\", x[0])]\n",
    "print(len(bb_outdegs))\n",
    "bb_df = outdeg_to_df(bb_outdegs, 30)"
   ]
  },
  {
   "cell_type": "code",
   "execution_count": 81,
   "metadata": {},
   "outputs": [
    {
     "data": {
      "image/png": "[encoded data removed]"
     },
     "metadata": {},
     "output_type": "display_data"
    }
   ],
   "source": [
    "%%R -i bb_df\n",
    "\n",
    "orig_title <- factor(bb_df$title)\n",
    "bb_df$title <- gsub(\" all-time roster\", \"\", bb_df$title)\n",
    "    \n",
    "bb_df$title <- factor(bb_df$title, levels=bb_df$title[order(bb_df$outdeg)])\n",
    "ggplot(bb_df, aes(x=title, y=outdeg, fill=orig_title)) + geom_bar(stat=\"identity\") +\n",
    "    coord_flip() + theme(legend.position=\"\") +\n",
    "    labs(title=\"Baseball All-Time Roster Outdegree\",\n",
    "             x= \"Team\", y=\"Outdegree\")"
   ]
  },
  {
   "cell_type": "markdown",
   "metadata": {},
   "source": [
    "To me, it seems like 14 teams dominate the sport of baseball, and I'm sure this would mean something to a Baseball fan. . Unfortunately, I don't count myself among those folk. But they do seem to like to have voluminous Wikipedia rosters (which makes sense, given their propensity for sabermetrics)."
   ]
  },
  {
   "cell_type": "markdown",
   "metadata": {},
   "source": [
    "## In-Degree Analysis\n"
   ]
  },
  {
   "cell_type": "code",
   "execution_count": 2,
   "metadata": {},
   "outputs": [
    {
     "data": {
      "text/plain": [
       "54"
      ]
     },
     "execution_count": 2,
     "metadata": {},
     "output_type": "execute_result"
    }
   ],
   "source": [
    "from collections import Counter\n",
    "from functools import reduce\n",
    "\n",
    "file_list = glob.glob(\"./PreviousResults/Jan202018/*.dat\")\n",
    "\n",
    "@ray.remote\n",
    "def collectIndegreeValues(filename):\n",
    "    f = open(filename)\n",
    "    \n",
    "    # This will contain only the lines which are not \n",
    "    lines = [re.sub(\"#.*\", \"\", line.strip()) for line in f if \n",
    "             not re.search(\"https?:\\/\\/\", line) and not re.search(\">>>>\", line)]\n",
    "    return(dict(Counter(lines)))\n",
    "\n",
    "indeg_results_list = ray.get([collectIndegreeValues.remote(filename) for filename in file_list])\n",
    "len(indeg_results_list)"
   ]
  },
  {
   "cell_type": "code",
   "execution_count": 3,
   "metadata": {},
   "outputs": [
    {
     "data": {
      "text/plain": [
       "1426770"
      ]
     },
     "execution_count": 3,
     "metadata": {},
     "output_type": "execute_result"
    }
   ],
   "source": [
    "len(indeg_results_list[0])"
   ]
  },
  {
   "cell_type": "code",
   "execution_count": null,
   "metadata": {},
   "outputs": [],
   "source": [
    "indeg_results = reduce(lambda x,y: Counter(x) + Counter(y), indeg_results_list)"
   ]
  },
  {
   "cell_type": "code",
   "execution_count": null,
   "metadata": {},
   "outputs": [],
   "source": [
    "len(indeg_results)"
   ]
  }
 ],
 "metadata": {
  "kernelspec": {
   "display_name": "Python 3",
   "language": "python",
   "name": "python3"
  },
  "language_info": {
   "codemirror_mode": {
    "name": "ipython",
    "version": 3
   },
   "file_extension": ".py",
   "mimetype": "text/x-python",
   "name": "python",
   "nbconvert_exporter": "python",
   "pygments_lexer": "ipython3",
   "version": "3.6.4"
  }
 },
 "nbformat": 4,
 "nbformat_minor": 2
}
